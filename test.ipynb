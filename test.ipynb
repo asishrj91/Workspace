{
 "cells": [
  {
   "cell_type": "code",
   "execution_count": 22,
   "metadata": {},
   "outputs": [
    {
     "name": "stdout",
     "output_type": "stream",
     "text": [
      "A\n"
     ]
    }
   ],
   "source": [
    "#Ternary Operator\n",
    "#x=(condition)?First_value:Second_value\n",
    "x='A' if (10<20) else 40\n",
    "print (x)"
   ]
  },
  {
   "cell_type": "code",
   "execution_count": 25,
   "metadata": {},
   "outputs": [
    {
     "name": "stdout",
     "output_type": "stream",
     "text": [
      "B\n"
     ]
    }
   ],
   "source": [
    "#Ternary Operator-Advanced\n",
    "x='A' if (10>20) else 'B' if (10<20) else 50\n",
    "print (x)"
   ]
  },
  {
   "cell_type": "code",
   "execution_count": 28,
   "metadata": {},
   "outputs": [
    {
     "name": "stdout",
     "output_type": "stream",
     "text": [
      "True\n",
      "True\n"
     ]
    }
   ],
   "source": [
    "#Membership Operator    \n",
    "x=[1,2,3]\n",
    "print(2 in x)\n",
    "s=\"Hello\"\n",
    "print('l' in s)"
   ]
  },
  {
   "cell_type": "code",
   "execution_count": 29,
   "metadata": {},
   "outputs": [
    {
     "name": "stdout",
     "output_type": "stream",
     "text": [
      "Result is 250\n"
     ]
    }
   ],
   "source": [
    "a,b=[int(x) for x in input (\"Enter two numbers:\").split()]\n",
    "print(\"Result is\", a*b)"
   ]
  },
  {
   "cell_type": "code",
   "execution_count": 81,
   "metadata": {},
   "outputs": [
    {
     "name": "stdout",
     "output_type": "stream",
     "text": [
      "54\n"
     ]
    }
   ],
   "source": [
    "ex=input(\"Enter some expressions\")\n",
    "result=eval(ex)\n",
    "print (result)    "
   ]
  },
  {
   "cell_type": "code",
   "execution_count": 83,
   "metadata": {},
   "outputs": [
    {
     "name": "stdout",
     "output_type": "stream",
     "text": [
      "<class 'str'>\n"
     ]
    }
   ],
   "source": [
    "#Eval will automatically recognize the data type of the input value.\n",
    "x=eval(input(\"Enter some data: \"))\n",
    "print(type(x))"
   ]
  },
  {
   "cell_type": "code",
   "execution_count": 32,
   "metadata": {},
   "outputs": [
    {
     "name": "stdout",
     "output_type": "stream",
     "text": [
      "['c:\\\\Users\\\\Administrator\\\\AppData\\\\Local\\\\Programs\\\\Python\\\\Python310\\\\lib\\\\site-packages\\\\ipykernel_launcher.py', '--ip=127.0.0.1', '--stdin=9003', '--control=9001', '--hb=9000', '--Session.signature_scheme=\"hmac-sha256\"', '--Session.key=b\"99911a65-3efe-44f3-81cf-0c1f876022a0\"', '--shell=9002', '--transport=\"tcp\"', '--iopub=9004', '--f=c:\\\\Users\\\\Administrator\\\\AppData\\\\Roaming\\\\jupyter\\\\runtime\\\\kernel-v2-7364FKpqKbXmVFH5.json']\n"
     ]
    }
   ],
   "source": [
    "#Command line argument. You can pass the variable via command line say: python test.py 10,20,30\n",
    "from sys import argv\n",
    "print(argv)"
   ]
  },
  {
   "cell_type": "code",
   "execution_count": 33,
   "metadata": {},
   "outputs": [
    {
     "name": "stdout",
     "output_type": "stream",
     "text": [
      "Asish RJ "
     ]
    }
   ],
   "source": [
    "print(\"Asish\",end=' ')\n",
    "print(\"RJ\",end=' ')"
   ]
  },
  {
   "cell_type": "code",
   "execution_count": 39,
   "metadata": {},
   "outputs": [
    {
     "name": "stdout",
     "output_type": "stream",
     "text": [
      "Integer 10 String ko\n",
      "Integer 10 String ko\n",
      "Integer 10 String ko\n",
      "Integer 10 String ko\n"
     ]
    }
   ],
   "source": [
    "a=10\n",
    "b=\"ko\"\n",
    "print(\"Integer %s String %s\" % (a,b))\n",
    "print(\"Integer {} String {}\" .format(a,b))\n",
    "print(\"Integer {0} String {1}\" .format(a,b))\n",
    "print(\"Integer {x} String {y}\" .format(x=a,y=b))"
   ]
  },
  {
   "cell_type": "code",
   "execution_count": 56,
   "metadata": {},
   "outputs": [
    {
     "name": "stdout",
     "output_type": "stream",
     "text": [
      "[1, 2, 3, 'a', 'b', 'c']\n"
     ]
    }
   ],
   "source": [
    "l1=[1,2,3]\n",
    "l2=[\"a\",\"b\",\"c\"]\n",
    "l1.extend(l2)\n",
    "print(l1)"
   ]
  },
  {
   "cell_type": "code",
   "execution_count": 63,
   "metadata": {},
   "outputs": [
    {
     "name": "stdout",
     "output_type": "stream",
     "text": [
      "120\n"
     ]
    }
   ],
   "source": [
    "from math import factorial\n",
    "def ko(n):\n",
    "    return factorial(n)\n",
    "print(ko(5))"
   ]
  },
  {
   "cell_type": "code",
   "execution_count": 64,
   "metadata": {},
   "outputs": [
    {
     "name": "stdout",
     "output_type": "stream",
     "text": [
      "25\n"
     ]
    }
   ],
   "source": [
    "#lambda\n",
    "s=lambda k:k*k\n",
    "print(s(5))"
   ]
  },
  {
   "cell_type": "code",
   "execution_count": 100,
   "metadata": {},
   "outputs": [
    {
     "name": "stdout",
     "output_type": "stream",
     "text": [
      "End\n",
      "inner function\n"
     ]
    }
   ],
   "source": [
    "def outer():\n",
    "    def inner():\n",
    "        print(\"inner function\")\n",
    "    print(\"End\")\n",
    "    return inner\n",
    "f1=outer()\n",
    "f1()"
   ]
  },
  {
   "cell_type": "code",
   "execution_count": 4,
   "metadata": {},
   "outputs": [
    {
     "name": "stdout",
     "output_type": "stream",
     "text": [
      "My nick name is Asish\n"
     ]
    }
   ],
   "source": [
    "#Function Decorators\n",
    "def decor(func):\n",
    "    def inner(name,nick):\n",
    "        if nick==\"Yes\":\n",
    "            print(\"My nick name is\",name)\n",
    "        else:\n",
    "            func(peru)\n",
    "    return inner\n",
    "    \n",
    "\n",
    "@decor\n",
    "def peru(name):\n",
    "    print(\"My name is\",name)\n",
    "\n",
    "peru(name=\"Asish\", nick=\"Yes\")"
   ]
  }
 ],
 "metadata": {
  "kernelspec": {
   "display_name": "Python 3.10.7 64-bit",
   "language": "python",
   "name": "python3"
  },
  "language_info": {
   "codemirror_mode": {
    "name": "ipython",
    "version": 3
   },
   "file_extension": ".py",
   "mimetype": "text/x-python",
   "name": "python",
   "nbconvert_exporter": "python",
   "pygments_lexer": "ipython3",
   "version": "3.10.7"
  },
  "orig_nbformat": 4,
  "vscode": {
   "interpreter": {
    "hash": "3196968d684371006099b3d55edeef8ed90365227a30deaef86e5d4aa8519be0"
   }
  }
 },
 "nbformat": 4,
 "nbformat_minor": 2
}
